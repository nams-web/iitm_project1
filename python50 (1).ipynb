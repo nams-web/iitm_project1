{
 "cells": [
  {
   "cell_type": "code",
   "execution_count": 1,
   "id": "a55feafd-9399-4458-845b-b26739843e70",
   "metadata": {},
   "outputs": [
    {
     "name": "stdin",
     "output_type": "stream",
     "text": [
      "Enter the first number:  5\n",
      "Enter the second number:  4\n",
      "Enter the third number:  7\n"
     ]
    },
    {
     "name": "stdout",
     "output_type": "stream",
     "text": [
      "The largest number is: 7.0\n"
     ]
    }
   ],
   "source": [
    "num1 = float(input(\"Enter the first number: \"))\n",
    "num2 = float(input(\"Enter the second number: \"))\n",
    "num3 = float(input(\"Enter the third number: \"))\n",
    "if num1 >= num2 and num1 >= num3:\n",
    "    largest = num1\n",
    "elif num2 >= num1 and num2 >= num3:\n",
    "    largest = num2\n",
    "else:\n",
    "    largest = num3\n",
    "print(\"The largest number is:\", largest)\n"
   ]
  },
  {
   "cell_type": "code",
   "execution_count": 2,
   "id": "76f1449e-ba7f-4896-aca8-3bf8fded5a9b",
   "metadata": {},
   "outputs": [
    {
     "name": "stdin",
     "output_type": "stream",
     "text": [
      "Enter a number:  7\n"
     ]
    },
    {
     "name": "stdout",
     "output_type": "stream",
     "text": [
      "7 is an Odd number.\n"
     ]
    }
   ],
   "source": [
    "num = int(input(\"Enter a number: \"))\n",
    "if num % 2 == 0:\n",
    "    print(f\"{num} is an Even number.\")\n",
    "else:\n",
    "    print(f\"{num} is an Odd number.\")\n"
   ]
  },
  {
   "cell_type": "code",
   "execution_count": 3,
   "id": "b4d40cdc-7100-492e-b7c9-bd704e9e0847",
   "metadata": {},
   "outputs": [
    {
     "name": "stdin",
     "output_type": "stream",
     "text": [
      "Enter a string:  Namrata Gupta \n"
     ]
    },
    {
     "name": "stdout",
     "output_type": "stream",
     "text": [
      "Reversed string:  atpuG atarmaN\n"
     ]
    }
   ],
   "source": [
    "user_string = input(\"Enter a string: \")\n",
    "reversed_string = user_string[::-1]\n",
    "print(\"Reversed string:\", reversed_string)\n"
   ]
  },
  {
   "cell_type": "code",
   "execution_count": 4,
   "id": "4a512e27-cc1b-4f51-a7db-d2d09ca2d1f1",
   "metadata": {},
   "outputs": [
    {
     "name": "stdin",
     "output_type": "stream",
     "text": [
      "Enter a string:  Namrata Gupta\n"
     ]
    },
    {
     "name": "stdout",
     "output_type": "stream",
     "text": [
      "Number of vowels in the string: 5\n"
     ]
    }
   ],
   "source": [
    "text = input(\"Enter a string: \")\n",
    "vowels = \"aeiouAEIOU\"\n",
    "count = 0\n",
    "for char in text:\n",
    "    if char in vowels:\n",
    "        count += 1\n",
    "print(\"Number of vowels in the string:\", count)\n"
   ]
  },
  {
   "cell_type": "code",
   "execution_count": 5,
   "id": "4dd9153e-187f-4429-bbd2-39e0534c16d5",
   "metadata": {},
   "outputs": [
    {
     "name": "stdin",
     "output_type": "stream",
     "text": [
      "Enter first number:  5\n",
      "Enter second number:  2\n",
      "Choose operation (+, -, *, /):  +\n"
     ]
    },
    {
     "name": "stdout",
     "output_type": "stream",
     "text": [
      "Result: 7.0\n"
     ]
    }
   ],
   "source": [
    "num1 = float(input(\"Enter first number: \"))\n",
    "num2 = float(input(\"Enter second number: \"))\n",
    "operation = input(\"Choose operation (+, -, *, /): \")\n",
    "\n",
    "if operation == '+':\n",
    "    result = num1 + num2\n",
    "elif operation == '-':\n",
    "    result = num1 - num2\n",
    "elif operation == '*':\n",
    "    result = num1 * num2\n",
    "elif operation == '/':\n",
    "    if num2 != 0:\n",
    "        result = num1 / num2\n",
    "    else:\n",
    "        result = \"Cannot divide by zero\"\n",
    "else:\n",
    "    result = \"Invalid operator\"\n",
    "\n",
    "print(\"Result:\", result)\n"
   ]
  },
  {
   "cell_type": "code",
   "execution_count": 6,
   "id": "3ff8081d-ad13-4b16-a9e6-a9a9c6ea88f0",
   "metadata": {},
   "outputs": [
    {
     "name": "stdin",
     "output_type": "stream",
     "text": [
      "Enter a number:  3\n"
     ]
    },
    {
     "name": "stdout",
     "output_type": "stream",
     "text": [
      "Prime number\n"
     ]
    }
   ],
   "source": [
    "num = int(input(\"Enter a number: \"))\n",
    "if num <= 1:\n",
    "    print(\"Not a prime number\")\n",
    "else:\n",
    "    for i in range(2, int(num**0.5)+1):\n",
    "        if num % i == 0:\n",
    "            print(\"Not a prime number\")\n",
    "            break\n",
    "    else:\n",
    "        print(\"Prime number\")\n"
   ]
  },
  {
   "cell_type": "code",
   "execution_count": 7,
   "id": "73f27af2-2455-481d-b93a-cbe7404cfb97",
   "metadata": {},
   "outputs": [
    {
     "name": "stdin",
     "output_type": "stream",
     "text": [
      "Enter a number:  6\n"
     ]
    },
    {
     "name": "stdout",
     "output_type": "stream",
     "text": [
      "Multiplication table of 6:\n",
      "6 x 1 = 6\n",
      "6 x 2 = 12\n",
      "6 x 3 = 18\n",
      "6 x 4 = 24\n",
      "6 x 5 = 30\n",
      "6 x 6 = 36\n",
      "6 x 7 = 42\n",
      "6 x 8 = 48\n",
      "6 x 9 = 54\n",
      "6 x 10 = 60\n"
     ]
    }
   ],
   "source": [
    "num = int(input(\"Enter a number: \"))\n",
    "print(f\"Multiplication table of {num}:\")\n",
    "for i in range(1, 11):\n",
    "    print(f\"{num} x {i} = {num * i}\")\n"
   ]
  },
  {
   "cell_type": "code",
   "execution_count": 8,
   "id": "d0533bb1-8038-423a-a620-45e692ef33e1",
   "metadata": {},
   "outputs": [
    {
     "name": "stdin",
     "output_type": "stream",
     "text": [
      "Enter number of terms:  9\n"
     ]
    },
    {
     "name": "stdout",
     "output_type": "stream",
     "text": [
      "Fibonacci Series:\n",
      "0 1 1 2 3 5 8 13 21 "
     ]
    }
   ],
   "source": [
    "n = int(input(\"Enter number of terms: \"))\n",
    "a, b = 0, 1\n",
    "\n",
    "print(\"Fibonacci Series:\")\n",
    "for _ in range(n):\n",
    "    print(a, end=' ')\n",
    "    a, b = b, a + b\n"
   ]
  },
  {
   "cell_type": "code",
   "execution_count": 9,
   "id": "06f9b2c9-e56b-4e35-bc27-6ef178da5f30",
   "metadata": {},
   "outputs": [
    {
     "name": "stdin",
     "output_type": "stream",
     "text": [
      "Enter a number:  6\n"
     ]
    },
    {
     "name": "stdout",
     "output_type": "stream",
     "text": [
      "Factorial of 6 is 720\n"
     ]
    }
   ],
   "source": [
    "num = int(input(\"Enter a number: \"))\n",
    "factorial = 1\n",
    "\n",
    "if num < 0:\n",
    "    print(\"Factorial does not exist for negative numbers.\")\n",
    "else:\n",
    "    for i in range(1, num + 1):\n",
    "        factorial *= i\n",
    "    print(f\"Factorial of {num} is {factorial}\")\n"
   ]
  },
  {
   "cell_type": "code",
   "execution_count": 10,
   "id": "608a39d5-30a7-466f-b901-bc58d5d060b5",
   "metadata": {},
   "outputs": [
    {
     "name": "stdin",
     "output_type": "stream",
     "text": [
      "Enter a number:  101\n"
     ]
    },
    {
     "name": "stdout",
     "output_type": "stream",
     "text": [
      "Palindrome number\n"
     ]
    }
   ],
   "source": [
    "num = input(\"Enter a number: \")\n",
    "if num == num[::-1]:\n",
    "    print(\"Palindrome number\")\n",
    "else:\n",
    "    print(\"Not a palindrome\")\n"
   ]
  },
  {
   "cell_type": "code",
   "execution_count": 13,
   "id": "858cb89b-aefc-48ff-89a6-63b0cc8365ef",
   "metadata": {},
   "outputs": [
    {
     "name": "stdin",
     "output_type": "stream",
     "text": [
      "Enter a number:  1234\n"
     ]
    },
    {
     "name": "stdout",
     "output_type": "stream",
     "text": [
      "Sum of digits: 10\n"
     ]
    }
   ],
   "source": [
    "# Sum of digits\n",
    "\n",
    "num = int(input(\"Enter a number: \"))\n",
    "sum_digits = 0\n",
    "\n",
    "while num > 0:\n",
    "    sum_digits += num % 10\n",
    "    num = num // 10\n",
    "\n",
    "print(\"Sum of digits:\", sum_digits)\n"
   ]
  },
  {
   "cell_type": "code",
   "execution_count": 14,
   "id": "2199f5e7-7596-43f6-9b04-89631acbe33b",
   "metadata": {},
   "outputs": [
    {
     "name": "stdin",
     "output_type": "stream",
     "text": [
      "Enter temperature in Celsius:  38\n"
     ]
    },
    {
     "name": "stdout",
     "output_type": "stream",
     "text": [
      "Temperature in Fahrenheit: 100.40\n"
     ]
    }
   ],
   "source": [
    "celsius = float(input(\"Enter temperature in Celsius: \"))\n",
    "fahrenheit = (celsius * 9/5) + 32\n",
    "\n",
    "print(f\"Temperature in Fahrenheit: {fahrenheit:.2f}\")\n"
   ]
  },
  {
   "cell_type": "code",
   "execution_count": 15,
   "id": "a24d7ae3-eb33-47b4-abe8-25a7f4dfe094",
   "metadata": {},
   "outputs": [
    {
     "name": "stdout",
     "output_type": "stream",
     "text": [
      "Maximum: 25\n"
     ]
    }
   ],
   "source": [
    "def find_max(a, b):\n",
    "    return a if a > b else b\n",
    "print(\"Maximum:\", find_max(10, 25))\n"
   ]
  },
  {
   "cell_type": "code",
   "execution_count": 16,
   "id": "b61c9d76-f1fe-47e9-9f68-65a50aac672f",
   "metadata": {},
   "outputs": [
    {
     "name": "stdout",
     "output_type": "stream",
     "text": [
      "Average: 25.0\n"
     ]
    }
   ],
   "source": [
    "def average(lst):\n",
    "    return sum(lst) / len(lst)\n",
    "numbers = [10, 20, 30, 40]\n",
    "print(\"Average:\", average(numbers))\n"
   ]
  },
  {
   "cell_type": "code",
   "execution_count": 17,
   "id": "789b8692-05d6-4bca-805a-a0fea6e4959b",
   "metadata": {},
   "outputs": [
    {
     "name": "stdout",
     "output_type": "stream",
     "text": [
      "Second largest: 30\n"
     ]
    }
   ],
   "source": [
    "def second_largest(lst):\n",
    "    unique = list(set(lst))\n",
    "    unique.sort()\n",
    "    return unique[-2] if len(unique) >= 2 else None\n",
    "nums = [10, 30, 20, 50, 50]\n",
    "print(\"Second largest:\", second_largest(nums))\n"
   ]
  },
  {
   "cell_type": "code",
   "execution_count": 18,
   "id": "796c96eb-530c-4234-8043-788a1b57cda9",
   "metadata": {},
   "outputs": [
    {
     "name": "stdout",
     "output_type": "stream",
     "text": [
      "Word count: 5\n"
     ]
    }
   ],
   "source": [
    "def count_words(sentence):\n",
    "    words = sentence.split()\n",
    "    return len(words)\n",
    "text = \"This is a sample sentence.\"\n",
    "print(\"Word count:\", count_words(text))\n"
   ]
  },
  {
   "cell_type": "code",
   "execution_count": 19,
   "id": "79c8abc7-64f9-48a1-8894-beaff930b6b9",
   "metadata": {},
   "outputs": [
    {
     "name": "stdout",
     "output_type": "stream",
     "text": [
      "Without duplicates: [1, 2, 3, 4, 5]\n"
     ]
    }
   ],
   "source": [
    "def remove_duplicates(lst):\n",
    "    return list(set(lst))\n",
    "items = [1, 2, 2, 3, 4, 4, 5]\n",
    "print(\"Without duplicates:\", remove_duplicates(items))\n"
   ]
  },
  {
   "cell_type": "code",
   "execution_count": 20,
   "id": "4cddffa2-9150-4439-b77d-ff5999508e30",
   "metadata": {},
   "outputs": [
    {
     "name": "stdout",
     "output_type": "stream",
     "text": [
      "Dictionary: {'a': 1, 'b': 2, 'c': 3}\n"
     ]
    }
   ],
   "source": [
    "def create_dict(keys, values):\n",
    "    return dict(zip(keys, values))\n",
    "k = ['a', 'b', 'c']\n",
    "v = [1, 2, 3]\n",
    "print(\"Dictionary:\", create_dict(k, v))\n"
   ]
  },
  {
   "cell_type": "code",
   "execution_count": 21,
   "id": "681a9615-b5e0-4619-ba3b-2be50c9be6f7",
   "metadata": {},
   "outputs": [
    {
     "name": "stdout",
     "output_type": "stream",
     "text": [
      "Sorted list: [1, 3, 5, 8]\n"
     ]
    }
   ],
   "source": [
    "def custom_sort(lst):\n",
    "    for i in range(len(lst)):\n",
    "        for j in range(i + 1, len(lst)):\n",
    "            if lst[i] > lst[j]:\n",
    "                lst[i], lst[j] = lst[j], lst[i]\n",
    "    return lst\n",
    "nums = [5, 3, 8, 1]\n",
    "print(\"Sorted list:\", custom_sort(nums))\n"
   ]
  },
  {
   "cell_type": "code",
   "execution_count": 22,
   "id": "1cfb018f-0078-49d6-bfb8-801e87b75026",
   "metadata": {},
   "outputs": [
    {
     "name": "stdout",
     "output_type": "stream",
     "text": [
      "Is pangram? True\n"
     ]
    }
   ],
   "source": [
    "import string\n",
    "\n",
    "def is_pangram(sentence):\n",
    "    return set(string.ascii_lowercase).issubset(set(sentence.lower()))\n",
    "print(\"Is pangram?\", is_pangram(\"The quick brown fox jumps over the lazy dog\"))\n"
   ]
  },
  {
   "cell_type": "code",
   "execution_count": 23,
   "id": "2e65b7e8-3c83-458a-9845-949e1e001f38",
   "metadata": {},
   "outputs": [
    {
     "name": "stdout",
     "output_type": "stream",
     "text": [
      "Is number? True\n",
      "Is number? False\n"
     ]
    }
   ],
   "source": [
    "def is_number(val):\n",
    "    try:\n",
    "        float(val)\n",
    "        return True\n",
    "    except ValueError:\n",
    "        return False\n",
    "print(\"Is number?\", is_number(\"123.45\"))\n",
    "print(\"Is number?\", is_number(\"abc\"))\n"
   ]
  },
  {
   "cell_type": "code",
   "execution_count": 24,
   "id": "3268fb58-8ec4-439e-8222-c7a503a9788e",
   "metadata": {},
   "outputs": [
    {
     "name": "stdout",
     "output_type": "stream",
     "text": [
      "Anagram? True\n"
     ]
    }
   ],
   "source": [
    "def is_anagram(str1, str2):\n",
    "    return sorted(str1.lower()) == sorted(str2.lower())\n",
    "print(\"Anagram?\", is_anagram(\"listen\", \"silent\"))\n"
   ]
  },
  {
   "cell_type": "code",
   "execution_count": 25,
   "id": "45fd46a5-4fdb-4371-8124-229374aa1c04",
   "metadata": {},
   "outputs": [
    {
     "name": "stdin",
     "output_type": "stream",
     "text": [
      "Enter a number:  10\n"
     ]
    },
    {
     "name": "stdout",
     "output_type": "stream",
     "text": [
      "Binary: 0b1010\n",
      "Octal: 0o12\n",
      "Hexadecimal: 0xa\n"
     ]
    }
   ],
   "source": [
    "num = int(input(\"Enter a number: \"))\n",
    "print(\"Binary:\", bin(num))\n",
    "print(\"Octal:\", oct(num))\n",
    "print(\"Hexadecimal:\", hex(num))\n"
   ]
  },
  {
   "cell_type": "code",
   "execution_count": 26,
   "id": "9677d5d3-6462-42a3-a20c-c2f54bbe9d8f",
   "metadata": {},
   "outputs": [
    {
     "name": "stdout",
     "output_type": "stream",
     "text": [
      "Greater than 50: [60, 55, 90]\n"
     ]
    }
   ],
   "source": [
    "def greater_than_50(lst):\n",
    "    return [x for x in lst if x > 50]\n",
    "nums = [10, 60, 55, 30, 90]\n",
    "print(\"Greater than 50:\", greater_than_50(nums))\n"
   ]
  },
  {
   "cell_type": "code",
   "execution_count": 27,
   "id": "d4f9195f-ff07-4604-b090-d4b9960e271c",
   "metadata": {},
   "outputs": [
    {
     "name": "stdout",
     "output_type": "stream",
     "text": [
      "Uppercase letters: 2\n",
      "Lowercase letters: 8\n"
     ]
    }
   ],
   "source": [
    "def count_case(s):\n",
    "    upper = sum(1 for c in s if c.isupper())\n",
    "    lower = sum(1 for c in s if c.islower())\n",
    "    return upper, lower\n",
    "text = \"Hello World!\"\n",
    "u, l = count_case(text)\n",
    "print(\"Uppercase letters:\", u)\n",
    "print(\"Lowercase letters:\", l)\n"
   ]
  },
  {
   "cell_type": "code",
   "execution_count": 28,
   "id": "6473bf38-8936-4651-b962-3687164d9f28",
   "metadata": {},
   "outputs": [
    {
     "name": "stdout",
     "output_type": "stream",
     "text": [
      "Squared List: [1, 4, 9, 16, 25]\n"
     ]
    }
   ],
   "source": [
    "numbers = [1, 2, 3, 4, 5]\n",
    "squared = list(map(lambda x: x**2, numbers))\n",
    "print(\"Squared List:\", squared)\n"
   ]
  },
  {
   "cell_type": "code",
   "execution_count": 29,
   "id": "20f7d909-8037-48d0-ada7-e0d53fa33a2e",
   "metadata": {},
   "outputs": [
    {
     "name": "stdout",
     "output_type": "stream",
     "text": [
      "Prime numbers from 1 to 100: [2, 3, 5, 7, 11, 13, 17, 19, 23, 29, 31, 37, 41, 43, 47, 53, 59, 61, 67, 71, 73, 79, 83, 89, 97]\n"
     ]
    }
   ],
   "source": [
    "def get_primes():\n",
    "    primes = []\n",
    "    for num in range(2, 101):\n",
    "        for i in range(2, int(num**0.5)+1):\n",
    "            if num % i == 0:\n",
    "                break\n",
    "        else:\n",
    "            primes.append(num)\n",
    "    return primes\n",
    "\n",
    "print(\"Prime numbers from 1 to 100:\", get_primes())\n"
   ]
  },
  {
   "cell_type": "code",
   "execution_count": 30,
   "id": "c9394896-790a-465a-9b3f-f382f5160bef",
   "metadata": {},
   "outputs": [
    {
     "name": "stdin",
     "output_type": "stream",
     "text": [
      "Enter first number:  10\n",
      "Enter second number:  20\n",
      "Enter operation (+, -, *, /):  *\n"
     ]
    },
    {
     "name": "stdout",
     "output_type": "stream",
     "text": [
      "Result: 200.0\n"
     ]
    }
   ],
   "source": [
    "def add(a, b): return a + b\n",
    "def subtract(a, b): return a - b\n",
    "def multiply(a, b): return a * b\n",
    "def divide(a, b): return a / b if b != 0 else \"Error: Division by zero\"\n",
    "\n",
    "# Example usage\n",
    "a = float(input(\"Enter first number: \"))\n",
    "b = float(input(\"Enter second number: \"))\n",
    "op = input(\"Enter operation (+, -, *, /): \")\n",
    "\n",
    "if op == '+':\n",
    "    print(\"Result:\", add(a, b))\n",
    "elif op == '-':\n",
    "    print(\"Result:\", subtract(a, b))\n",
    "elif op == '*':\n",
    "    print(\"Result:\", multiply(a, b))\n",
    "elif op == '/':\n",
    "    print(\"Result:\", divide(a, b))\n",
    "else:\n",
    "    print(\"Invalid operator\")\n"
   ]
  },
  {
   "cell_type": "code",
   "execution_count": 31,
   "id": "b1266637-7882-4a8e-92b7-ecd869638b0f",
   "metadata": {},
   "outputs": [
    {
     "name": "stdin",
     "output_type": "stream",
     "text": [
      "Enter a number:  7\n"
     ]
    },
    {
     "name": "stdout",
     "output_type": "stream",
     "text": [
      "Factorial of 7 is 5040\n"
     ]
    }
   ],
   "source": [
    "def factorial(n):\n",
    "    if n == 0 or n == 1:\n",
    "        return 1\n",
    "    return n * factorial(n - 1)\n",
    "num = int(input(\"Enter a number: \"))\n",
    "print(f\"Factorial of {num} is\", factorial(num))\n"
   ]
  },
  {
   "cell_type": "code",
   "execution_count": 32,
   "id": "2b847ab5-2ec2-49ad-bdb9-227c5dd9516c",
   "metadata": {},
   "outputs": [
    {
     "name": "stdout",
     "output_type": "stream",
     "text": [
      "Name: Namrata, Roll: 101, Course: BCA\n"
     ]
    }
   ],
   "source": [
    "class Student:\n",
    "    def __init__(self, name, roll, course):\n",
    "        self.name = name\n",
    "        self.roll = roll\n",
    "        self.course = course\n",
    "\n",
    "    def display(self):\n",
    "        print(f\"Name: {self.name}, Roll: {self.roll}, Course: {self.course}\")\n",
    "\n",
    "s1 = Student(\"Namrata\", 101, \"BCA\")\n",
    "s1.display()\n"
   ]
  },
  {
   "cell_type": "code",
   "execution_count": 4,
   "id": "cebdb5b0-5bd0-4d10-9be6-2949c410720e",
   "metadata": {},
   "outputs": [
    {
     "name": "stdout",
     "output_type": "stream",
     "text": [
      "✅ 'sample.txt' created successfully.\n",
      "Total lines: 3\n",
      "Total words: 17\n"
     ]
    }
   ],
   "source": [
    "with open('sample.txt', 'w') as f:\n",
    "    f.write(\"Hello, this is the first line.\\n\")\n",
    "    f.write(\"This is the second line.\\n\")\n",
    "    f.write(\"And this is the third line.\")\n",
    "\n",
    "print(\"✅ 'sample.txt' created successfully.\")\n",
    "\n",
    "def count_file_lines_words(filename):\n",
    "    with open(filename, 'r') as f:\n",
    "        lines = f.readlines()\n",
    "        word_count = sum(len(line.split()) for line in lines)\n",
    "    print(\"Total lines:\", len(lines))\n",
    "    print(\"Total words:\", word_count)\n",
    "count_file_lines_words('sample.txt')\n",
    "\n"
   ]
  },
  {
   "cell_type": "code",
   "execution_count": 36,
   "id": "738a343c-013d-4602-a0a0-82ddb8416a73",
   "metadata": {},
   "outputs": [
    {
     "name": "stdout",
     "output_type": "stream",
     "text": [
      "Function complete\n",
      "Execution Time: 2.0006 seconds\n"
     ]
    }
   ],
   "source": [
    "import time\n",
    "\n",
    "def timer(func):\n",
    "    def wrapper(*args, **kwargs):\n",
    "        start = time.time()\n",
    "        result = func(*args, **kwargs)\n",
    "        end = time.time()\n",
    "        print(f\"Execution Time: {end - start:.4f} seconds\")\n",
    "        return result\n",
    "    return wrapper\n",
    "\n",
    "@timer\n",
    "def test_function():\n",
    "    time.sleep(2)\n",
    "    print(\"Function complete\")\n",
    "\n",
    "test_function()\n"
   ]
  },
  {
   "cell_type": "code",
   "execution_count": 37,
   "id": "429fa8dc-d78e-4146-87d1-efb3c1fd49a9",
   "metadata": {},
   "outputs": [
    {
     "name": "stdout",
     "output_type": "stream",
     "text": [
      "Deposited: 500, New Balance: 1500\n",
      "Withdrew: 300, New Balance: 1200\n",
      "Insufficient funds!\n"
     ]
    }
   ],
   "source": [
    "class BankAccount:\n",
    "    def __init__(self, balance=0):\n",
    "        self.balance = balance\n",
    "\n",
    "    def deposit(self, amount):\n",
    "        self.balance += amount\n",
    "        print(f\"Deposited: {amount}, New Balance: {self.balance}\")\n",
    "\n",
    "    def withdraw(self, amount):\n",
    "        if amount <= self.balance:\n",
    "            self.balance -= amount\n",
    "            print(f\"Withdrew: {amount}, New Balance: {self.balance}\")\n",
    "        else:\n",
    "            print(\"Insufficient funds!\")\n",
    "acc = BankAccount(1000)\n",
    "acc.deposit(500)\n",
    "acc.withdraw(300)\n",
    "acc.withdraw(1500)\n"
   ]
  },
  {
   "cell_type": "code",
   "execution_count": 38,
   "id": "aedbbb87-041a-458c-8f76-34c0ddf2c3e8",
   "metadata": {},
   "outputs": [
    {
     "name": "stdout",
     "output_type": "stream",
     "text": [
      "2 4 6 8 10 "
     ]
    }
   ],
   "source": [
    "def even_numbers(n):\n",
    "    for i in range(2, n+1, 2):\n",
    "        yield i\n",
    "for num in even_numbers(10):\n",
    "    print(num, end=' ')\n"
   ]
  },
  {
   "cell_type": "code",
   "execution_count": 39,
   "id": "1b3f3cfe-b1df-44b8-bbcb-411823e731ea",
   "metadata": {},
   "outputs": [
    {
     "name": "stdout",
     "output_type": "stream",
     "text": [
      "Positional arguments: (1, 2, 3)\n",
      "Keyword arguments: {'name': 'Alice', 'age': 25}\n"
     ]
    }
   ],
   "source": [
    "def print_all_args(*args, **kwargs):\n",
    "    print(\"Positional arguments:\", args)\n",
    "    print(\"Keyword arguments:\", kwargs)\n",
    "print_all_args(1, 2, 3, name=\"Alice\", age=25)\n"
   ]
  },
  {
   "cell_type": "code",
   "execution_count": 40,
   "id": "6df816c8-93a2-468b-bb37-78ea1ffcac24",
   "metadata": {},
   "outputs": [
    {
     "name": "stdout",
     "output_type": "stream",
     "text": [
      "Squares of even numbers: [4, 16, 36, 64, 100, 144, 196, 256, 324, 400]\n"
     ]
    }
   ],
   "source": [
    "squares = [x**2 for x in range(1, 21) if x % 2 == 0]\n",
    "print(\"Squares of even numbers:\", squares)\n"
   ]
  },
  {
   "cell_type": "code",
   "execution_count": 41,
   "id": "eb785827-f6f1-4dc5-a5b7-17f8854555ed",
   "metadata": {},
   "outputs": [
    {
     "name": "stdout",
     "output_type": "stream",
     "text": [
      "[1, 2, 3, 4]\n"
     ]
    }
   ],
   "source": [
    "def unique_elements(lst):\n",
    "    return list(set(lst))\n",
    "print(unique_elements([1, 2, 2, 3, 4, 4]))\n"
   ]
  },
  {
   "cell_type": "code",
   "execution_count": 42,
   "id": "9bdb4eb7-d2fc-4993-8b96-f94082a77f96",
   "metadata": {},
   "outputs": [
    {
     "name": "stdout",
     "output_type": "stream",
     "text": [
      "Merged Dictionary: {'a': 1, 'b': 3, 'c': 4}\n"
     ]
    }
   ],
   "source": [
    "dict1 = {'a': 1, 'b': 2}\n",
    "dict2 = {'b': 3, 'c': 4}\n",
    "merged = {**dict1, **dict2}\n",
    "print(\"Merged Dictionary:\", merged)\n"
   ]
  },
  {
   "cell_type": "code",
   "execution_count": 43,
   "id": "2bd194bc-5960-4aa3-90ff-c6af751e4985",
   "metadata": {},
   "outputs": [
    {
     "name": "stdout",
     "output_type": "stream",
     "text": [
      "Dog barks\n"
     ]
    }
   ],
   "source": [
    "class Animal:\n",
    "    def speak(self):\n",
    "        print(\"Animal speaks\")\n",
    "\n",
    "class Dog(Animal):\n",
    "    def speak(self):\n",
    "        print(\"Dog barks\")\n",
    "\n",
    "d = Dog()\n",
    "d.speak()\n"
   ]
  },
  {
   "cell_type": "code",
   "execution_count": 44,
   "id": "26ddbbae-e1cc-4873-89a4-5354a79922bc",
   "metadata": {},
   "outputs": [
    {
     "name": "stdout",
     "output_type": "stream",
     "text": [
      "[2, 3]\n"
     ]
    }
   ],
   "source": [
    "def common_elements(lst1, lst2):\n",
    "    return list(set(lst1) & set(lst2))\n",
    "\n",
    "print(common_elements([1, 2, 3], [2, 3, 4]))\n"
   ]
  },
  {
   "cell_type": "code",
   "execution_count": 45,
   "id": "850d99ae-14e6-46eb-abb2-f23c48c2c7bf",
   "metadata": {},
   "outputs": [
    {
     "name": "stdin",
     "output_type": "stream",
     "text": [
      "Enter a number:  0\n"
     ]
    },
    {
     "name": "stdout",
     "output_type": "stream",
     "text": [
      "Cannot divide by zero!\n",
      "Execution completed.\n"
     ]
    }
   ],
   "source": [
    "try:\n",
    "    x = int(input(\"Enter a number: \"))\n",
    "    result = 10 / x\n",
    "except ZeroDivisionError:\n",
    "    print(\"Cannot divide by zero!\")\n",
    "except ValueError:\n",
    "    print(\"Invalid input!\")\n",
    "else:\n",
    "    print(\"Result:\", result)\n",
    "finally:\n",
    "    print(\"Execution completed.\")\n"
   ]
  },
  {
   "cell_type": "code",
   "execution_count": 46,
   "id": "f736be7f-567d-46c1-921f-8657acabf8bf",
   "metadata": {},
   "outputs": [
    {
     "name": "stdout",
     "output_type": "stream",
     "text": [
      "Name: Namrata\n",
      "Age: 19\n",
      "City: Delhi\n"
     ]
    }
   ],
   "source": [
    "import json\n",
    "\n",
    "json_data = '{\"name\": \"Namrata\", \"age\": 19, \"city\": \"Delhi\"}'\n",
    "data = json.loads(json_data)\n",
    "print(\"Name:\", data['name'])\n",
    "print(\"Age:\", data['age'])\n",
    "print(\"City:\", data['city'])\n"
   ]
  },
  {
   "cell_type": "code",
   "execution_count": 47,
   "id": "ff57377e-feb7-480e-b273-ecb546e73316",
   "metadata": {},
   "outputs": [
    {
     "name": "stdout",
     "output_type": "stream",
     "text": [
      "Name: Namrata\n",
      "Protected: Protected\n",
      "Private: Private\n"
     ]
    }
   ],
   "source": [
    "class Person:\n",
    "    def __init__(self, name):\n",
    "        self._protected = \"Protected\"\n",
    "        self.__private = \"Private\"\n",
    "        self.name = name\n",
    "\n",
    "    def show(self):\n",
    "        print(\"Name:\", self.name)\n",
    "        print(\"Protected:\", self._protected)\n",
    "        print(\"Private:\", self.__private)\n",
    "\n",
    "p = Person(\"Namrata\")\n",
    "p.show()\n"
   ]
  },
  {
   "cell_type": "code",
   "execution_count": 48,
   "id": "551cf1c0-e8f6-4e0b-9be5-6a69f71eb7a6",
   "metadata": {},
   "outputs": [
    {
     "name": "stdout",
     "output_type": "stream",
     "text": [
      "True\n"
     ]
    }
   ],
   "source": [
    "import re\n",
    "\n",
    "def is_valid_email(email):\n",
    "    pattern = r'^[\\w\\.-]+@[\\w\\.-]+\\.\\w+$'\n",
    "    return re.match(pattern, email) is not None\n",
    "\n",
    "print(is_valid_email(\"test@example.com\"))\n"
   ]
  },
  {
   "cell_type": "code",
   "execution_count": 6,
   "id": "85ce1191-3a84-43ec-8fea-5bfbbd6e22f6",
   "metadata": {},
   "outputs": [
    {
     "name": "stdout",
     "output_type": "stream",
     "text": [
      "✅ 'data.csv' created successfully.\n",
      "📄 CSV data as list of dictionaries:\n",
      "{'name': 'Namrata', 'age': '18', 'city': 'Delhi'}\n",
      "{'name': 'Pari', 'age': '19', 'city': 'Mumbai'}\n",
      "{'name': 'Siya', 'age': '18', 'city': 'Goa'}\n"
     ]
    }
   ],
   "source": [
    "import csv\n",
    "with open('data.csv', 'w', newline='') as csvfile:\n",
    "    writer = csv.writer(csvfile)\n",
    "    writer.writerow(['name', 'age', 'city'])\n",
    "    writer.writerow(['Namrata', '18', 'Delhi'])\n",
    "    writer.writerow(['Pari', '19', 'Mumbai'])\n",
    "    writer.writerow(['Siya', '18', 'Goa'])\n",
    "print(\"✅ 'data.csv' created successfully.\")\n",
    "\n",
    "with open('data.csv', newline='', encoding='utf-8') as csvfile:\n",
    "    reader = csv.DictReader(csvfile)\n",
    "    data = list(reader)\n",
    "\n",
    "print(\"📄 CSV data as list of dictionaries:\")\n",
    "for row in data:\n",
    "    print(row)\n"
   ]
  },
  {
   "cell_type": "code",
   "execution_count": 51,
   "id": "bcc2f276-7327-4966-82ce-8fc4118f1c87",
   "metadata": {},
   "outputs": [
    {
     "name": "stdin",
     "output_type": "stream",
     "text": [
      "Enter username:  Namrata\n",
      "Enter password:  Namrata3186\n"
     ]
    },
    {
     "name": "stdout",
     "output_type": "stream",
     "text": [
      "Invalid credentials\n"
     ]
    }
   ],
   "source": [
    "users = {\"admin\": \"1234\", \"user\": \"pass\"}\n",
    "\n",
    "username = input(\"Enter username: \")\n",
    "password = input(\"Enter password: \")\n",
    "\n",
    "if users.get(username) == password:\n",
    "    print(\"Login successful\")\n",
    "else:\n",
    "    print(\"Invalid credentials\")\n"
   ]
  },
  {
   "cell_type": "code",
   "execution_count": 52,
   "id": "d1bc2a3a-00fa-46da-a668-b7476be91276",
   "metadata": {},
   "outputs": [
    {
     "name": "stdout",
     "output_type": "stream",
     "text": [
      "[1, 2, 3, 4, 5]\n"
     ]
    }
   ],
   "source": [
    "def flatten(lst):\n",
    "    result = []\n",
    "    for item in lst:\n",
    "        if isinstance(item, list):\n",
    "            result.extend(flatten(item))\n",
    "        else:\n",
    "            result.append(item)\n",
    "    return result\n",
    "\n",
    "nested = [1, [2, [3, 4]], 5]\n",
    "print(flatten(nested))\n"
   ]
  },
  {
   "cell_type": "code",
   "execution_count": 53,
   "id": "088658b9-04d2-4d10-ba5b-0d3afd113195",
   "metadata": {},
   "outputs": [
    {
     "name": "stdout",
     "output_type": "stream",
     "text": [
      "Squares: [1, 4, 9, 16, 25]\n",
      "Evens: [2, 4]\n",
      "Sum: 15\n"
     ]
    }
   ],
   "source": [
    "from functools import reduce\n",
    "\n",
    "nums = [1, 2, 3, 4, 5]\n",
    "\n",
    "squares = list(map(lambda x: x**2, nums))\n",
    "evens = list(filter(lambda x: x % 2 == 0, nums))\n",
    "total = reduce(lambda x, y: x + y, nums)\n",
    "\n",
    "print(\"Squares:\", squares)\n",
    "print(\"Evens:\", evens)\n",
    "print(\"Sum:\", total)\n"
   ]
  },
  {
   "cell_type": "code",
   "execution_count": 55,
   "id": "82b83227-33a0-4be2-bac6-40da9ed4e61c",
   "metadata": {},
   "outputs": [
    {
     "name": "stdout",
     "output_type": "stream",
     "text": [
      "1. Add\n",
      "2. Subtract\n",
      "3. Multiply\n",
      "4. Exit\n"
     ]
    },
    {
     "name": "stdin",
     "output_type": "stream",
     "text": [
      "Enter choice:  2\n",
      "Enter first number:  8\n",
      "Enter second number:  6\n"
     ]
    },
    {
     "name": "stdout",
     "output_type": "stream",
     "text": [
      "Result: 2\n",
      "1. Add\n",
      "2. Subtract\n",
      "3. Multiply\n",
      "4. Exit\n"
     ]
    },
    {
     "name": "stdin",
     "output_type": "stream",
     "text": [
      "Enter choice:  4\n"
     ]
    },
    {
     "name": "stdout",
     "output_type": "stream",
     "text": [
      "Exiting...\n"
     ]
    }
   ],
   "source": [
    "def menu():\n",
    "    print(\"1. Add\\n2. Subtract\\n3. Multiply\\n4. Exit\")\n",
    "    choice = input(\"Enter choice: \")\n",
    "    return choice\n",
    "\n",
    "while True:\n",
    "    ch = menu()\n",
    "    if ch == '4':\n",
    "        print(\"Exiting...\")\n",
    "        break\n",
    "    a = int(input(\"Enter first number: \"))\n",
    "    b = int(input(\"Enter second number: \"))\n",
    "\n",
    "    if ch == '1':\n",
    "        print(\"Result:\", a + b)\n",
    "    elif ch == '2':\n",
    "        print(\"Result:\", a - b)\n",
    "    elif ch == '3':\n",
    "        print(\"Result:\", a * b)\n",
    "    else:\n",
    "        print(\"Invalid choice\")\n"
   ]
  },
  {
   "cell_type": "code",
   "execution_count": 56,
   "id": "2a02f640-0009-47f0-94c0-66e779a71dbb",
   "metadata": {},
   "outputs": [
    {
     "name": "stdin",
     "output_type": "stream",
     "text": [
      "What is the capital of India?  Delhi\n",
      "What is 2 + 2?  4\n",
      "Which language is this quiz written in?  Python\n"
     ]
    },
    {
     "name": "stdout",
     "output_type": "stream",
     "text": [
      "Your score is 3/3\n"
     ]
    }
   ],
   "source": [
    "score = 0\n",
    "questions = {\n",
    "    \"What is the capital of India?\": \"Delhi\",\n",
    "    \"What is 2 + 2?\": \"4\",\n",
    "    \"Which language is this quiz written in?\": \"Python\"\n",
    "}\n",
    "\n",
    "for q, a in questions.items():\n",
    "    user_ans = input(q + \" \")\n",
    "    if user_ans.strip().lower() == a.lower():\n",
    "        score += 1\n",
    "\n",
    "print(f\"Your score is {score}/{len(questions)}\")\n"
   ]
  },
  {
   "cell_type": "code",
   "execution_count": null,
   "id": "4f696389-49cc-4684-abb2-4b8449f81d47",
   "metadata": {},
   "outputs": [],
   "source": []
  }
 ],
 "metadata": {
  "kernelspec": {
   "display_name": "Python 3 (ipykernel)",
   "language": "python",
   "name": "python3"
  },
  "language_info": {
   "codemirror_mode": {
    "name": "ipython",
    "version": 3
   },
   "file_extension": ".py",
   "mimetype": "text/x-python",
   "name": "python",
   "nbconvert_exporter": "python",
   "pygments_lexer": "ipython3",
   "version": "3.13.5"
  }
 },
 "nbformat": 4,
 "nbformat_minor": 5
}
