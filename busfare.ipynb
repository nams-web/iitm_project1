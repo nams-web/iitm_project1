{
 "cells": [
  {
   "cell_type": "code",
   "execution_count": null,
   "id": "53206260-6274-4dab-8331-ea6d7ef70754",
   "metadata": {},
   "outputs": [],
   "source": [
    "fare = 100\n",
    "age = int(input(\"enter you age:\"))\n",
    "if age <= 5:\n",
    "  discount = 100\n",
    "elif age <= 12:\n",
    "  discount = 50\n",
    "elif age <= 60:\n",
    "  discount = 30\n",
    "else:\n",
    "  discount = 0\n",
    "final_fare = fare * (1 - discount / 100)\n",
    "print(f\" applicable discount: {discount}%\")\n",
    "print(f\" final ticket fare: {final_fare}\")"
   ]
  }
 ],
 "metadata": {
  "kernelspec": {
   "display_name": "Python 3 (ipykernel)",
   "language": "python",
   "name": "python3"
  },
  "language_info": {
   "codemirror_mode": {
    "name": "ipython",
    "version": 3
   },
   "file_extension": ".py",
   "mimetype": "text/x-python",
   "name": "python",
   "nbconvert_exporter": "python",
   "pygments_lexer": "ipython3",
   "version": "3.12.4"
  }
 },
 "nbformat": 4,
 "nbformat_minor": 5
}
