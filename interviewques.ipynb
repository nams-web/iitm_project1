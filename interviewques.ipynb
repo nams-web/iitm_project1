{
 "cells": [
  {
   "cell_type": "code",
   "execution_count": 1,
   "id": "624f83a7-7c6b-4ca6-b12c-47958d9e2a69",
   "metadata": {},
   "outputs": [
    {
     "name": "stdin",
     "output_type": "stream",
     "text": [
      "Enter a string: Namrata\n"
     ]
    },
    {
     "name": "stdout",
     "output_type": "stream",
     "text": [
      "Reverse String: atarmaN\n"
     ]
    }
   ],
   "source": [
    "string = input('Enter a string:')\n",
    "\n",
    "reverse_string = string[::-1]\n",
    "\n",
    "print('Reverse String:',reverse_string)"
   ]
  },
  {
   "cell_type": "code",
   "execution_count": 2,
   "id": "6f363f25-dde2-44ec-98e5-5ef5c16ee4ce",
   "metadata": {},
   "outputs": [
    {
     "name": "stdin",
     "output_type": "stream",
     "text": [
      "Enter a string: madam\n"
     ]
    },
    {
     "name": "stdout",
     "output_type": "stream",
     "text": [
      "Palindrome\n"
     ]
    }
   ],
   "source": [
    "string = input('Enter a string:')\n",
    "\n",
    "reverse_string = string[::-1]\n",
    "\n",
    "if string == reverse_string:\n",
    "    print('Palindrome')\n",
    "else:\n",
    "    print('Not Palindrome')"
   ]
  },
  {
   "cell_type": "code",
   "execution_count": 4,
   "id": "050e6921-0546-4f2a-a8d6-d941de6c0b5b",
   "metadata": {},
   "outputs": [
    {
     "name": "stdin",
     "output_type": "stream",
     "text": [
      "Enter a number: 5\n"
     ]
    },
    {
     "name": "stdout",
     "output_type": "stream",
     "text": [
      "Factorial of 5 is 120\n"
     ]
    }
   ],
   "source": [
    "def Factorial(n):\n",
    "  if n==0 or n==1:\n",
    "    return 1\n",
    "  else:\n",
    "    return n*Factorial(n-1)\n",
    "\n",
    "num = int(input('Enter a number:'))\n",
    "\n",
    "if num<0:\n",
    "  print('Factorial no. is not defined for negative numbers')\n",
    "else:\n",
    "  print('Factorial of',num,'is',Factorial(num))"
   ]
  },
  {
   "cell_type": "code",
   "execution_count": 5,
   "id": "52d5f5cf-f4ba-420a-983b-520621aecedd",
   "metadata": {},
   "outputs": [
    {
     "name": "stdin",
     "output_type": "stream",
     "text": [
      "Enter a number: 8\n"
     ]
    },
    {
     "name": "stdout",
     "output_type": "stream",
     "text": [
      "Fibonacci series of 8 is [0, 1, 1, 2, 3, 5, 8, 13]\n"
     ]
    }
   ],
   "source": [
    "def Fibonacci_series(n):\n",
    "  fib_series=[]\n",
    "  a,b=0,1\n",
    "  for i in range(n):\n",
    "    fib_series.append(a)\n",
    "    a,b=b,a+b\n",
    "  return fib_series\n",
    "\n",
    "num = int(input('Enter a number:'))\n",
    "\n",
    "print('Fibonacci series of',num,'is',Fibonacci_series(num))"
   ]
  },
  {
   "cell_type": "code",
   "execution_count": 6,
   "id": "1bc9454b-cd68-456a-876c-fc23da19276a",
   "metadata": {},
   "outputs": [
    {
     "name": "stdin",
     "output_type": "stream",
     "text": [
      "Enter a number: 3\n"
     ]
    },
    {
     "name": "stdout",
     "output_type": "stream",
     "text": [
      "3 is a prime number.\n"
     ]
    }
   ],
   "source": [
    "num = int(input('Enter a number:'))\n",
    "if num<=1:\n",
    "  print(f'{num} is not a prime number.')\n",
    "else:\n",
    "  for i in range(2, int(num**0.5)+1):\n",
    "    if num % i == 0:\n",
    "      print(f\"{num} is not a prime number.\")\n",
    "      break\n",
    "  else:\n",
    "    print(f\"{num} is a prime number.\")"
   ]
  },
  {
   "cell_type": "code",
   "execution_count": 7,
   "id": "a1da73b9-632e-4672-be6e-560c3c32aee2",
   "metadata": {},
   "outputs": [
    {
     "name": "stdin",
     "output_type": "stream",
     "text": [
      "Enter the first number: 64\n",
      "Enter the second number: 8\n"
     ]
    },
    {
     "name": "stdout",
     "output_type": "stream",
     "text": [
      "GCD of 64 and 8 is 8\n"
     ]
    }
   ],
   "source": [
    "def gcd(a,b):\n",
    "  while b != 0:\n",
    "    a,b =b,a % b\n",
    "  return a\n",
    "n1 = int(input('Enter the first number:'))\n",
    "n2 = int(input('Enter the second number:'))\n",
    "print(f\"GCD of {n1} and {n2} is {gcd(n1,n2)}\")"
   ]
  },
  {
   "cell_type": "code",
   "execution_count": 8,
   "id": "640c3d27-4b81-4887-91a5-bb1396df60fd",
   "metadata": {},
   "outputs": [
    {
     "name": "stdin",
     "output_type": "stream",
     "text": [
      "Enter the string: namrata\n"
     ]
    },
    {
     "name": "stdout",
     "output_type": "stream",
     "text": [
      "Number of vowels in the string is 3\n"
     ]
    }
   ],
   "source": [
    "text = input(\"Enter the string:\")\n",
    "vowels = \"aeiouAEIOU\"\n",
    "count = sum(text.count(vowel) for vowel in vowels)\n",
    "print(f\"Number of vowels in the string is {count}\")"
   ]
  },
  {
   "cell_type": "code",
   "execution_count": 9,
   "id": "c33ac3ae-5765-4da6-b91c-bdc9be91eadf",
   "metadata": {},
   "outputs": [
    {
     "name": "stdout",
     "output_type": "stream",
     "text": [
      "Duplicate elements in the list are []\n"
     ]
    }
   ],
   "source": [
    "def fin_duplicates(lst):\n",
    "  seen=set()\n",
    "  duplicates = set()\n",
    "  for item in lst:\n",
    "    if item in seen:\n",
    "      duplicates.add(item)\n",
    "    else:\n",
    "      seen.add(item)\n",
    "    return list(duplicates)\n",
    "my_list = [1,2,3,4,5,6,5,2,6,3,2]\n",
    "print(f\"Duplicate elements in the list are {fin_duplicates(my_list)}\")"
   ]
  },
  {
   "cell_type": "code",
   "execution_count": 10,
   "id": "2fa9ba3e-ea66-4cf6-b6d6-eebd90706e73",
   "metadata": {},
   "outputs": [
    {
     "name": "stdin",
     "output_type": "stream",
     "text": [
      "Enter first string:  bring\n",
      "Enter second string:  pen\n"
     ]
    },
    {
     "name": "stdout",
     "output_type": "stream",
     "text": [
      "The strings are not anagrams.\n"
     ]
    }
   ],
   "source": [
    "def are_anagrams(str1, str2):\n",
    "    str1 = str1.replace(\" \", \"\").lower()\n",
    "    str2 = str2.replace(\" \", \"\").lower()\n",
    "\n",
    "    return sorted(str1) == sorted(str2)\n",
    "\n",
    "\n",
    "string1 = input(\"Enter first string: \")\n",
    "string2 = input(\"Enter second string: \")\n",
    "\n",
    "if are_anagrams(string1, string2):\n",
    "    print(\"The strings are anagrams.\")\n",
    "else:\n",
    "    print(\"The strings are not anagrams.\")"
   ]
  },
  {
   "cell_type": "code",
   "execution_count": 11,
   "id": "4bcfe09e-bc82-42e6-92c5-e9cc1a48b67c",
   "metadata": {},
   "outputs": [
    {
     "name": "stdin",
     "output_type": "stream",
     "text": [
      "Enter sorted list 1 (space-separated):  1 3 5 7\n",
      "Enter sorted list 2 (space-separated):  2 4 6 8\n"
     ]
    },
    {
     "name": "stdout",
     "output_type": "stream",
     "text": [
      "Merged sorted list: [1, 2, 3, 4, 5, 6, 7, 8]\n"
     ]
    }
   ],
   "source": [
    "def merge_sorted_lists(list1, list2):\n",
    "    merged_list = []\n",
    "    i = j = 0\n",
    "\n",
    "    while i < len(list1) and j < len(list2):\n",
    "        if list1[i] <= list2[j]:\n",
    "            merged_list.append(list1[i])\n",
    "            i += 1\n",
    "        else:\n",
    "            merged_list.append(list2[j])\n",
    "            j += 1\n",
    "\n",
    "\n",
    "    merged_list.extend(list1[i:])\n",
    "    merged_list.extend(list2[j:])\n",
    "\n",
    "    return merged_list\n",
    "\n",
    "\n",
    "list1 = list(map(int, input(\"Enter sorted list 1 (space-separated): \").split()))\n",
    "list2 = list(map(int, input(\"Enter sorted list 2 (space-separated): \").split()))\n",
    "\n",
    "\n",
    "result = merge_sorted_lists(list1, list2)\n",
    "print(\"Merged sorted list:\", result)"
   ]
  },
  {
   "cell_type": "code",
   "execution_count": 12,
   "id": "5785ede7-e29b-4113-95be-787e65e2d00f",
   "metadata": {},
   "outputs": [
    {
     "name": "stdin",
     "output_type": "stream",
     "text": [
      "Enter the value of n:  5\n",
      "Enter the numbers (space-separated):  2\n"
     ]
    },
    {
     "name": "stdout",
     "output_type": "stream",
     "text": [
      "Missing numbers in the range 1 to 5 are: 13\n"
     ]
    }
   ],
   "source": [
    "n = int(input(\"Enter the value of n: \"))\n",
    "\n",
    "numbers = list(map(int, input(\"Enter the numbers (space-separated): \").split()))\n",
    "\n",
    "expected_sum = (n * (n + 1)) // 2\n",
    "actual_sum = sum(numbers)\n",
    "\n",
    "missing_numbers = expected_sum - actual_sum\n",
    "\n",
    "print(\"Missing numbers in the range 1 to\", n, \"are:\", missing_numbers)\n",
    "\n",
    "     "
   ]
  },
  {
   "cell_type": "code",
   "execution_count": 13,
   "id": "1bc4407b-4067-4f9e-be77-54c7002b3ed8",
   "metadata": {},
   "outputs": [
    {
     "name": "stdin",
     "output_type": "stream",
     "text": [
      "Enter a number: 123\n"
     ]
    },
    {
     "name": "stdout",
     "output_type": "stream",
     "text": [
      "123 is not an Armstrong number.\n"
     ]
    }
   ],
   "source": [
    "num = int(input('Enter a number:'))\n",
    "\n",
    "num_str = str(num)\n",
    "n = len(num_str)\n",
    "\n",
    "sum_of_power = sum(int(digit) ** n for digit in num_str)\n",
    "\n",
    "if sum_of_power == num:\n",
    "    print(f\"{num} is an Armstrong number.\")\n",
    "else:\n",
    "    print(f\"{num} is not an Armstrong number.\")\n"
   ]
  },
  {
   "cell_type": "code",
   "execution_count": 14,
   "id": "ec918eda-f1e5-4bc9-8bf8-793f311482d0",
   "metadata": {},
   "outputs": [
    {
     "name": "stdin",
     "output_type": "stream",
     "text": [
      "Enter a sentence:  I am namrata gupta \n"
     ]
    },
    {
     "name": "stdout",
     "output_type": "stream",
     "text": [
      "The sentence is not a pangram.\n"
     ]
    }
   ],
   "source": [
    "import string\n",
    "\n",
    "def is_pangram(sentence):\n",
    "\n",
    "    sentence = sentence.lower()\n",
    "\n",
    "\n",
    "    alphabet = set(string.ascii_lowercase)\n",
    "\n",
    "\n",
    "    sentence_set = set(sentence)\n",
    "\n",
    "    return alphabet.issubset(sentence_set)\n",
    "\n",
    "\n",
    "text = input(\"Enter a sentence: \")\n",
    "\n",
    "if is_pangram(text):\n",
    "    print(\"The sentence is a pangram.\")\n",
    "else:\n",
    "    print(\"The sentence is not a pangram.\")"
   ]
  },
  {
   "cell_type": "code",
   "execution_count": 15,
   "id": "ebe8087b-950f-445a-9ff1-b0671f51d514",
   "metadata": {},
   "outputs": [
    {
     "name": "stdin",
     "output_type": "stream",
     "text": [
      "Enter the items :  1,3,4,5,2,4,3,4,\n"
     ]
    },
    {
     "name": "stdout",
     "output_type": "stream",
     "text": [
      "List with duplicates removed: ['1,3,4,5,2,4,3,4,']\n"
     ]
    }
   ],
   "source": [
    "items = input(\"Enter the items : \").split()\n",
    "\n",
    "unique_items = list(set(items))\n",
    "\n",
    "print(\"List with duplicates removed:\", unique_items)"
   ]
  },
  {
   "cell_type": "code",
   "execution_count": 16,
   "id": "48287cdc-b82a-40fb-b4b6-2060085e9751",
   "metadata": {},
   "outputs": [
    {
     "name": "stdin",
     "output_type": "stream",
     "text": [
      "Enter the numbers (space-separated):  12\n"
     ]
    },
    {
     "name": "stdout",
     "output_type": "stream",
     "text": [
      "There is no second largest number.\n"
     ]
    }
   ],
   "source": [
    "num = list(map(int, input(\"Enter the numbers (space-separated): \").split()))\n",
    "\n",
    "first = second = float('-inf')\n",
    "\n",
    "for n in num:\n",
    "  if n > first:\n",
    "    second = first\n",
    "    first = num\n",
    "  elif first > num > second:\n",
    "    second = num\n",
    "\n",
    "if second == float('-inf'):\n",
    "  print(\"There is no second largest number.\")\n",
    "else:\n",
    "  print(\"The second largest number is:\", second)\n"
   ]
  },
  {
   "cell_type": "code",
   "execution_count": 17,
   "id": "0124433a-9702-4e93-a357-5b0714147b0f",
   "metadata": {},
   "outputs": [
    {
     "name": "stdin",
     "output_type": "stream",
     "text": [
      "Enter the elements:  namrata gupta is a bca student \n"
     ]
    },
    {
     "name": "stdout",
     "output_type": "stream",
     "text": [
      "Element counts\n",
      "namrata: 1\n",
      "gupta: 1\n",
      "is: 1\n",
      "a: 1\n",
      "bca: 1\n",
      "student: 1\n"
     ]
    }
   ],
   "source": [
    "elements = input(\"Enter the elements: \").split()\n",
    "\n",
    "element_count = {}\n",
    "\n",
    "for element in elements:\n",
    "    if element in element_count:\n",
    "        element_count[element] += 1\n",
    "    else:\n",
    "        element_count[element] = 1\n",
    "\n",
    "print(\"Element counts\")\n",
    "for element, count in element_count.items():\n",
    "    print(f\"{element}: {count}\")\n",
    "     "
   ]
  },
  {
   "cell_type": "code",
   "execution_count": 18,
   "id": "03ea9327-f5ae-4b43-904d-df2b5f4a44fb",
   "metadata": {},
   "outputs": [
    {
     "name": "stdin",
     "output_type": "stream",
     "text": [
      "Enter the number of rows:  2\n",
      "Enter the number of columns:  2\n"
     ]
    },
    {
     "name": "stdout",
     "output_type": "stream",
     "text": [
      "Enter the matrix row by row:\n"
     ]
    },
    {
     "name": "stdin",
     "output_type": "stream",
     "text": [
      " 3 5 \n",
      " 6 7\n"
     ]
    },
    {
     "name": "stdout",
     "output_type": "stream",
     "text": [
      "Transpose of the matrix:\n",
      "[3, 6]\n",
      "[5, 7]\n"
     ]
    }
   ],
   "source": [
    "rows = int(input(\"Enter the number of rows: \"))\n",
    "cols = int(input(\"Enter the number of columns: \"))\n",
    "\n",
    "print(\"Enter the matrix row by row:\")\n",
    "matrix = []\n",
    "for i in range(rows):\n",
    "  row = list(map(int,input().split()))\n",
    "  matrix.append(row)\n",
    "\n",
    "transpose = []\n",
    "for j in range(cols):\n",
    "  transpose_row=[]\n",
    "  for i in range(rows):\n",
    "     transpose_row.append(matrix[i][j])\n",
    "  transpose.append(transpose_row)\n",
    "\n",
    "print(\"Transpose of the matrix:\")\n",
    "for row in transpose:\n",
    "  print(row)"
   ]
  },
  {
   "cell_type": "code",
   "execution_count": 19,
   "id": "92d17aa9-d798-4413-97e4-6b9faa88fb2b",
   "metadata": {},
   "outputs": [
    {
     "name": "stdin",
     "output_type": "stream",
     "text": [
      "Enter the first list:  Namrata is student \n",
      "Enter the second list:  Ishpreet is also student \n"
     ]
    },
    {
     "name": "stdout",
     "output_type": "stream",
     "text": [
      "Intersection of the lists: ['is', 'student']\n"
     ]
    }
   ],
   "source": [
    "list1 = input(\"Enter the first list: \").split()\n",
    "list2 = input(\"Enter the second list: \").split()\n",
    "\n",
    "intersection = list(set(list1) & set(list2))\n",
    "\n",
    "print(\"Intersection of the lists:\", intersection)"
   ]
  },
  {
   "cell_type": "code",
   "execution_count": 20,
   "id": "ef7e5a78-5cf9-4001-8904-c47c091f9ea6",
   "metadata": {},
   "outputs": [
    {
     "name": "stdout",
     "output_type": "stream",
     "text": [
      "Flattened list: [1, 2, 3, 4, 5, 6]\n"
     ]
    }
   ],
   "source": [
    "nested_list = [[1,2], [3,4], [5,6]]\n",
    "\n",
    "flattened_list=[]\n",
    "for sublist in nested_list:\n",
    "  flattened_list.extend(sublist)\n",
    "\n",
    "print(\"Flattened list:\", flattened_list)"
   ]
  },
  {
   "cell_type": "code",
   "execution_count": 21,
   "id": "e47b8126-26da-44a8-b25a-53fe1494b5cf",
   "metadata": {},
   "outputs": [
    {
     "name": "stdin",
     "output_type": "stream",
     "text": [
      "Enter a string:  namrata is a student \n"
     ]
    },
    {
     "name": "stdout",
     "output_type": "stream",
     "text": [
      "Number of words in the string: 4\n"
     ]
    }
   ],
   "source": [
    "text = input(\"Enter a string: \")\n",
    "\n",
    "word_count = len(text.split())\n",
    "\n",
    "print(\"Number of words in the string:\", word_count)"
   ]
  },
  {
   "cell_type": "code",
   "execution_count": null,
   "id": "09b8463e-083c-4b13-b84b-8ff570f7114f",
   "metadata": {},
   "outputs": [],
   "source": []
  }
 ],
 "metadata": {
  "kernelspec": {
   "display_name": "Python 3 (ipykernel)",
   "language": "python",
   "name": "python3"
  },
  "language_info": {
   "codemirror_mode": {
    "name": "ipython",
    "version": 3
   },
   "file_extension": ".py",
   "mimetype": "text/x-python",
   "name": "python",
   "nbconvert_exporter": "python",
   "pygments_lexer": "ipython3",
   "version": "3.13.5"
  }
 },
 "nbformat": 4,
 "nbformat_minor": 5
}
