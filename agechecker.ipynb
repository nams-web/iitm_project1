{
 "cells": [
  {
   "cell_type": "code",
   "execution_count": null,
   "id": "fffe46cc-fc50-4fd9-8b25-69fd50c81e0e",
   "metadata": {},
   "outputs": [],
   "source": [
    "age = int(input(\"enter your age:\"))\n",
    "if age>= 18:\n",
    "  print(\"you are eligible to vote\")\n",
    "else:\n",
    "  print(\"you are not eligible to vote\")\n",
    "if age>= 21:\n",
    "  print(\"you are eligible for driving license\")\n",
    "else:\n",
    "  print(\"you are not eligible for driving license\")\n",
    "if age>= 60:\n",
    "  print(\"you are senior citizen\")"
   ]
  }
 ],
 "metadata": {
  "kernelspec": {
   "display_name": "Python 3 (ipykernel)",
   "language": "python",
   "name": "python3"
  },
  "language_info": {
   "codemirror_mode": {
    "name": "ipython",
    "version": 3
   },
   "file_extension": ".py",
   "mimetype": "text/x-python",
   "name": "python",
   "nbconvert_exporter": "python",
   "pygments_lexer": "ipython3",
   "version": "3.12.4"
  }
 },
 "nbformat": 4,
 "nbformat_minor": 5
}
