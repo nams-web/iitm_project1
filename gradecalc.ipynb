{
 "cells": [
  {
   "cell_type": "code",
   "execution_count": null,
   "id": "62e1a9e1",
   "metadata": {},
   "outputs": [],
   "source": [
    "marks =  float(input(\"enter your marks(out of 100):\"))\n",
    "if marks>= 90:\n",
    "  print(\"grade = 'A'\")\n",
    "elif marks >= 80:\n",
    " print(\"grade = 'B'\")\n",
    "elif marks >= 70:\n",
    " print(\"grade = 'C'\")\n",
    "elif marks >= 60:\n",
    " print(\"grade = 'D'\")\n",
    "elif marks >= 50:\n",
    " print(\"grade = 'E'\")\n",
    "else:\n",
    "  print(\"grade = 'F'\")"
   ]
  },
  {
   "cell_type": "code",
   "execution_count": null,
   "id": "ffbda101",
   "metadata": {},
   "outputs": [],
   "source": []
  }
 ],
 "metadata": {
  "language_info": {
   "name": "python"
  }
 },
 "nbformat": 4,
 "nbformat_minor": 5
}
