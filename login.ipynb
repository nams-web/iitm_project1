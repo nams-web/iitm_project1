{
 "cells": [
  {
   "cell_type": "code",
   "execution_count": null,
   "id": "c1a60b9f-e2b1-48cc-a74c-8aaf2057d6c7",
   "metadata": {},
   "outputs": [],
   "source": [
    "username = \"pari\"\n",
    "password = \"nams12\" \n",
    "for i in range(3):\n",
    "    user = input(\"username:\")\n",
    "    pwd = input(\"password:\")\n",
    "    if user == username and pwd == password:\n",
    "        print(\"login successful\")\n",
    "        break\n",
    "    else:\n",
    "        print(\"wrong username or pswd\")\n",
    "if i==2:\n",
    "    print(\"3 attempts finished\") "
   ]
  },
  {
   "cell_type": "code",
   "execution_count": null,
   "id": "0a7e7186-06c6-453b-a021-164ced02d46b",
   "metadata": {},
   "outputs": [],
   "source": []
  }
 ],
 "metadata": {
  "kernelspec": {
   "display_name": "Python 3 (ipykernel)",
   "language": "python",
   "name": "python3"
  },
  "language_info": {
   "codemirror_mode": {
    "name": "ipython",
    "version": 3
   },
   "file_extension": ".py",
   "mimetype": "text/x-python",
   "name": "python",
   "nbconvert_exporter": "python",
   "pygments_lexer": "ipython3",
   "version": "3.12.4"
  }
 },
 "nbformat": 4,
 "nbformat_minor": 5
}
