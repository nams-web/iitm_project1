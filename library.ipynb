{
 "cells": [
  {
   "cell_type": "code",
   "execution_count": 5,
   "id": "ab9c2ed0-1b63-4423-b220-82d502b144f4",
   "metadata": {},
   "outputs": [
    {
     "name": "stdin",
     "output_type": "stream",
     "text": [
      "enter number of days overdue: 10\n"
     ]
    },
    {
     "name": "stdout",
     "output_type": "stream",
     "text": [
      "pay fine is : Rs. 50\n"
     ]
    }
   ],
   "source": [
    "days = int(input(\"enter number of days overdue:\"))\n",
    "if days <= 0:\n",
    "    print(\"No fine!\")\n",
    "elif days <= 5:\n",
    "    fine = days * 2\n",
    "    print(\"pay fine is : Rs.\", fine)\n",
    "elif days <= 10:\n",
    "    fine = days * 5\n",
    "    print(\"pay fine is : Rs.\", fine)\n",
    "elif days <= 30:\n",
    "    fine = days * 10\n",
    "    print(\"pay fine is : Rs.\", fine)\n",
    "else:\n",
    "    fine = days * 15\n",
    "    print(\"pay fine : Rs.\", fine) \n"
   ]
  },
  {
   "cell_type": "code",
   "execution_count": null,
   "id": "9fb91787-3097-48c0-999f-41af5e266790",
   "metadata": {},
   "outputs": [],
   "source": []
  }
 ],
 "metadata": {
  "kernelspec": {
   "display_name": "Python 3 (ipykernel)",
   "language": "python",
   "name": "python3"
  },
  "language_info": {
   "codemirror_mode": {
    "name": "ipython",
    "version": 3
   },
   "file_extension": ".py",
   "mimetype": "text/x-python",
   "name": "python",
   "nbconvert_exporter": "python",
   "pygments_lexer": "ipython3",
   "version": "3.12.4"
  }
 },
 "nbformat": 4,
 "nbformat_minor": 5
}
