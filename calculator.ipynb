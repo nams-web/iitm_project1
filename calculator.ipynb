{
 "cells": [
  {
   "cell_type": "code",
   "execution_count": null,
   "id": "0d855e91-51d4-4f0e-bee9-fbb734a9fe30",
   "metadata": {},
   "outputs": [],
   "source": [
    "no1 = float(input(\"enter first number:\"))\n",
    "no2 = float(input(\"enter second number:\"))\n",
    "operation = input(\"choose operation(+, -, * , /)\")\n",
    "if operation == '+':\n",
    "  print(\"sum is:\", no1 + no2)\n",
    "elif operation == '-':\n",
    "  print(\"difference is:\" , no1 - no2)\n",
    "elif operation == '*':\n",
    "  print(\"product is: \" ,no1 * no2)\n",
    "elif operation == '/':\n",
    "   if no2 != 0:\n",
    "    print(\"quotient is\" ,no1 / no2)\n",
    "   else:\n",
    "    print(result = \"error! division by zero\")\n",
    "else:\n",
    "  print(\"result = invalid\")\n"
   ]
  },
  {
   "cell_type": "code",
   "execution_count": null,
   "id": "ca2bca3c-96db-474a-a22a-90f706305164",
   "metadata": {},
   "outputs": [],
   "source": []
  }
 ],
 "metadata": {
  "kernelspec": {
   "display_name": "Python 3 (ipykernel)",
   "language": "python",
   "name": "python3"
  },
  "language_info": {
   "codemirror_mode": {
    "name": "ipython",
    "version": 3
   },
   "file_extension": ".py",
   "mimetype": "text/x-python",
   "name": "python",
   "nbconvert_exporter": "python",
   "pygments_lexer": "ipython3",
   "version": "3.12.4"
  }
 },
 "nbformat": 4,
 "nbformat_minor": 5
}
